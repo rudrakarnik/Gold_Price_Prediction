{
  "cells": [
    {
      "cell_type": "markdown",
      "id": "269545cf",
      "metadata": {
        "id": "269545cf"
      },
      "source": [
        "<a name=\"1\"></a>\n",
        "## 1 - Packages \n",
        "\n",
        "- [numpy](www.numpy.org) is the fundamental package for working with matrices in Python.\n",
        "- [matplotlib](http://matplotlib.org) is a famous library to plot graphs in Python.\n",
        "- ``utils.py`` contains helper functions.\n"
      ]
    },
    {
      "cell_type": "code",
      "execution_count": null,
      "id": "0373ee69",
      "metadata": {
        "id": "0373ee69"
      },
      "outputs": [],
      "source": [
        "import numpy as np\n",
        "import pandas as pd\n",
        "import matplotlib.pyplot as plt\n",
        "# from util import *\n",
        "import copy\n",
        "import math\n",
        "%matplotlib inline"
      ]
    },
    {
      "cell_type": "markdown",
      "id": "0bdfe92b",
      "metadata": {
        "id": "0bdfe92b"
      },
      "source": [
        "## 2 - Dataset\n",
        "\n",
        "You will start by loading the dataset for this task. \n",
        "- The `pd.read_csv()` function shown below loads the data into `gold_data`"
      ]
    },
    {
      "cell_type": "code",
      "execution_count": null,
      "id": "d33e4abb",
      "metadata": {
        "id": "d33e4abb"
      },
      "outputs": [],
      "source": [
        "gold_data = pd.read_csv('/content/gold price dataset.csv')"
      ]
    },
    {
      "cell_type": "markdown",
      "id": "94c61b17",
      "metadata": {
        "id": "94c61b17"
      },
      "source": [
        "## 3 - Functions on Dataset\n",
        "`.head()` function will show first five column of our dataset."
      ]
    },
    {
      "cell_type": "code",
      "execution_count": null,
      "id": "294890e4",
      "metadata": {
        "id": "294890e4",
        "outputId": "84871741-282b-4638-dfba-4173dd742d37",
        "colab": {
          "base_uri": "https://localhost:8080/",
          "height": 206
        }
      },
      "outputs": [
        {
          "output_type": "execute_result",
          "data": {
            "text/plain": [
              "       Date          SPX        GLD        USO     SLV   EUR/USD\n",
              "0  1/2/2008  1447.160034  84.860001  78.470001  15.180  1.471692\n",
              "1  1/3/2008  1447.160034  85.570000  78.370003  15.285  1.474491\n",
              "2  1/4/2008  1411.630005  85.129997  77.309998  15.167  1.475492\n",
              "3  1/7/2008  1416.180054  84.769997  75.500000  15.053  1.468299\n",
              "4  1/8/2008  1390.189941  86.779999  76.059998  15.590  1.557099"
            ],
            "text/html": [
              "\n",
              "  <div id=\"df-f6a63c0f-136f-4b8a-b1e8-b9e86be50591\">\n",
              "    <div class=\"colab-df-container\">\n",
              "      <div>\n",
              "<style scoped>\n",
              "    .dataframe tbody tr th:only-of-type {\n",
              "        vertical-align: middle;\n",
              "    }\n",
              "\n",
              "    .dataframe tbody tr th {\n",
              "        vertical-align: top;\n",
              "    }\n",
              "\n",
              "    .dataframe thead th {\n",
              "        text-align: right;\n",
              "    }\n",
              "</style>\n",
              "<table border=\"1\" class=\"dataframe\">\n",
              "  <thead>\n",
              "    <tr style=\"text-align: right;\">\n",
              "      <th></th>\n",
              "      <th>Date</th>\n",
              "      <th>SPX</th>\n",
              "      <th>GLD</th>\n",
              "      <th>USO</th>\n",
              "      <th>SLV</th>\n",
              "      <th>EUR/USD</th>\n",
              "    </tr>\n",
              "  </thead>\n",
              "  <tbody>\n",
              "    <tr>\n",
              "      <th>0</th>\n",
              "      <td>1/2/2008</td>\n",
              "      <td>1447.160034</td>\n",
              "      <td>84.860001</td>\n",
              "      <td>78.470001</td>\n",
              "      <td>15.180</td>\n",
              "      <td>1.471692</td>\n",
              "    </tr>\n",
              "    <tr>\n",
              "      <th>1</th>\n",
              "      <td>1/3/2008</td>\n",
              "      <td>1447.160034</td>\n",
              "      <td>85.570000</td>\n",
              "      <td>78.370003</td>\n",
              "      <td>15.285</td>\n",
              "      <td>1.474491</td>\n",
              "    </tr>\n",
              "    <tr>\n",
              "      <th>2</th>\n",
              "      <td>1/4/2008</td>\n",
              "      <td>1411.630005</td>\n",
              "      <td>85.129997</td>\n",
              "      <td>77.309998</td>\n",
              "      <td>15.167</td>\n",
              "      <td>1.475492</td>\n",
              "    </tr>\n",
              "    <tr>\n",
              "      <th>3</th>\n",
              "      <td>1/7/2008</td>\n",
              "      <td>1416.180054</td>\n",
              "      <td>84.769997</td>\n",
              "      <td>75.500000</td>\n",
              "      <td>15.053</td>\n",
              "      <td>1.468299</td>\n",
              "    </tr>\n",
              "    <tr>\n",
              "      <th>4</th>\n",
              "      <td>1/8/2008</td>\n",
              "      <td>1390.189941</td>\n",
              "      <td>86.779999</td>\n",
              "      <td>76.059998</td>\n",
              "      <td>15.590</td>\n",
              "      <td>1.557099</td>\n",
              "    </tr>\n",
              "  </tbody>\n",
              "</table>\n",
              "</div>\n",
              "      <button class=\"colab-df-convert\" onclick=\"convertToInteractive('df-f6a63c0f-136f-4b8a-b1e8-b9e86be50591')\"\n",
              "              title=\"Convert this dataframe to an interactive table.\"\n",
              "              style=\"display:none;\">\n",
              "        \n",
              "  <svg xmlns=\"http://www.w3.org/2000/svg\" height=\"24px\"viewBox=\"0 0 24 24\"\n",
              "       width=\"24px\">\n",
              "    <path d=\"M0 0h24v24H0V0z\" fill=\"none\"/>\n",
              "    <path d=\"M18.56 5.44l.94 2.06.94-2.06 2.06-.94-2.06-.94-.94-2.06-.94 2.06-2.06.94zm-11 1L8.5 8.5l.94-2.06 2.06-.94-2.06-.94L8.5 2.5l-.94 2.06-2.06.94zm10 10l.94 2.06.94-2.06 2.06-.94-2.06-.94-.94-2.06-.94 2.06-2.06.94z\"/><path d=\"M17.41 7.96l-1.37-1.37c-.4-.4-.92-.59-1.43-.59-.52 0-1.04.2-1.43.59L10.3 9.45l-7.72 7.72c-.78.78-.78 2.05 0 2.83L4 21.41c.39.39.9.59 1.41.59.51 0 1.02-.2 1.41-.59l7.78-7.78 2.81-2.81c.8-.78.8-2.07 0-2.86zM5.41 20L4 18.59l7.72-7.72 1.47 1.35L5.41 20z\"/>\n",
              "  </svg>\n",
              "      </button>\n",
              "      \n",
              "  <style>\n",
              "    .colab-df-container {\n",
              "      display:flex;\n",
              "      flex-wrap:wrap;\n",
              "      gap: 12px;\n",
              "    }\n",
              "\n",
              "    .colab-df-convert {\n",
              "      background-color: #E8F0FE;\n",
              "      border: none;\n",
              "      border-radius: 50%;\n",
              "      cursor: pointer;\n",
              "      display: none;\n",
              "      fill: #1967D2;\n",
              "      height: 32px;\n",
              "      padding: 0 0 0 0;\n",
              "      width: 32px;\n",
              "    }\n",
              "\n",
              "    .colab-df-convert:hover {\n",
              "      background-color: #E2EBFA;\n",
              "      box-shadow: 0px 1px 2px rgba(60, 64, 67, 0.3), 0px 1px 3px 1px rgba(60, 64, 67, 0.15);\n",
              "      fill: #174EA6;\n",
              "    }\n",
              "\n",
              "    [theme=dark] .colab-df-convert {\n",
              "      background-color: #3B4455;\n",
              "      fill: #D2E3FC;\n",
              "    }\n",
              "\n",
              "    [theme=dark] .colab-df-convert:hover {\n",
              "      background-color: #434B5C;\n",
              "      box-shadow: 0px 1px 3px 1px rgba(0, 0, 0, 0.15);\n",
              "      filter: drop-shadow(0px 1px 2px rgba(0, 0, 0, 0.3));\n",
              "      fill: #FFFFFF;\n",
              "    }\n",
              "  </style>\n",
              "\n",
              "      <script>\n",
              "        const buttonEl =\n",
              "          document.querySelector('#df-f6a63c0f-136f-4b8a-b1e8-b9e86be50591 button.colab-df-convert');\n",
              "        buttonEl.style.display =\n",
              "          google.colab.kernel.accessAllowed ? 'block' : 'none';\n",
              "\n",
              "        async function convertToInteractive(key) {\n",
              "          const element = document.querySelector('#df-f6a63c0f-136f-4b8a-b1e8-b9e86be50591');\n",
              "          const dataTable =\n",
              "            await google.colab.kernel.invokeFunction('convertToInteractive',\n",
              "                                                     [key], {});\n",
              "          if (!dataTable) return;\n",
              "\n",
              "          const docLinkHtml = 'Like what you see? Visit the ' +\n",
              "            '<a target=\"_blank\" href=https://colab.research.google.com/notebooks/data_table.ipynb>data table notebook</a>'\n",
              "            + ' to learn more about interactive tables.';\n",
              "          element.innerHTML = '';\n",
              "          dataTable['output_type'] = 'display_data';\n",
              "          await google.colab.output.renderOutput(dataTable, element);\n",
              "          const docLink = document.createElement('div');\n",
              "          docLink.innerHTML = docLinkHtml;\n",
              "          element.appendChild(docLink);\n",
              "        }\n",
              "      </script>\n",
              "    </div>\n",
              "  </div>\n",
              "  "
            ]
          },
          "metadata": {},
          "execution_count": 5
        }
      ],
      "source": [
        "gold_data.head()"
      ]
    },
    {
      "cell_type": "markdown",
      "id": "8a237bab",
      "metadata": {
        "id": "8a237bab"
      },
      "source": [
        "#### Check the dimensions of your variables\n",
        "\n",
        "Another useful way to get familiar with your data is to view its dimensions.\n",
        "\n",
        "Please print the shape of `gold_data` and see how many examples you have in your dataset."
      ]
    },
    {
      "cell_type": "code",
      "execution_count": null,
      "id": "3f97b14e",
      "metadata": {
        "id": "3f97b14e",
        "outputId": "efb4d22a-437c-4bef-be2e-9cf5ce7b409a",
        "colab": {
          "base_uri": "https://localhost:8080/"
        }
      },
      "outputs": [
        {
          "output_type": "execute_result",
          "data": {
            "text/plain": [
              "(2290, 6)"
            ]
          },
          "metadata": {},
          "execution_count": 6
        }
      ],
      "source": [
        "gold_data.shape"
      ]
    },
    {
      "cell_type": "code",
      "execution_count": null,
      "id": "02a30890",
      "metadata": {
        "id": "02a30890",
        "outputId": "d2cb0ad5-d95c-4d39-a01e-dc42d65139d5",
        "colab": {
          "base_uri": "https://localhost:8080/"
        }
      },
      "outputs": [
        {
          "output_type": "execute_result",
          "data": {
            "text/plain": [
              "<bound method DataFrame.info of            Date          SPX         GLD        USO      SLV   EUR/USD\n",
              "0      1/2/2008  1447.160034   84.860001  78.470001  15.1800  1.471692\n",
              "1      1/3/2008  1447.160034   85.570000  78.370003  15.2850  1.474491\n",
              "2      1/4/2008  1411.630005   85.129997  77.309998  15.1670  1.475492\n",
              "3      1/7/2008  1416.180054   84.769997  75.500000  15.0530  1.468299\n",
              "4      1/8/2008  1390.189941   86.779999  76.059998  15.5900  1.557099\n",
              "...         ...          ...         ...        ...      ...       ...\n",
              "2285   5/8/2018  2671.919922  124.589996  14.060000  15.5100  1.186789\n",
              "2286   5/9/2018  2697.790039  124.330002  14.370000  15.5300  1.184722\n",
              "2287  5/10/2018  2723.070068  125.180000  14.410000  15.7400  1.191753\n",
              "2288  5/14/2018  2730.129883  124.489998  14.380000  15.5600  1.193118\n",
              "2289  5/16/2018  2725.780029  122.543800  14.405800  15.4542  1.182033\n",
              "\n",
              "[2290 rows x 6 columns]>"
            ]
          },
          "metadata": {},
          "execution_count": 7
        }
      ],
      "source": [
        "gold_data.info"
      ]
    },
    {
      "cell_type": "markdown",
      "id": "0e0a0927",
      "metadata": {
        "id": "0e0a0927"
      },
      "source": [
        "- The `gold_data['column_name']` function shown below loads the data into variables `x_train` and `y_train`\n",
        "  - `x_train` is the Silver Prices data\n",
        "  - `y_train` is the Gold Prices data"
      ]
    },
    {
      "cell_type": "code",
      "execution_count": null,
      "id": "36931f25",
      "metadata": {
        "id": "36931f25"
      },
      "outputs": [],
      "source": [
        "x_train = gold_data['SLV']\n",
        "y_train = gold_data['GLD']"
      ]
    },
    {
      "cell_type": "code",
      "execution_count": null,
      "id": "b13cf32a",
      "metadata": {
        "id": "b13cf32a",
        "outputId": "c2018ca0-0b91-4d79-e630-16131eed2c28",
        "colab": {
          "base_uri": "https://localhost:8080/"
        }
      },
      "outputs": [
        {
          "output_type": "stream",
          "name": "stdout",
          "text": [
            "0       15.1800\n",
            "1       15.2850\n",
            "2       15.1670\n",
            "3       15.0530\n",
            "4       15.5900\n",
            "         ...   \n",
            "2285    15.5100\n",
            "2286    15.5300\n",
            "2287    15.7400\n",
            "2288    15.5600\n",
            "2289    15.4542\n",
            "Name: SLV, Length: 2290, dtype: float64\n"
          ]
        }
      ],
      "source": [
        "print(x_train)"
      ]
    },
    {
      "cell_type": "markdown",
      "id": "0c41de7a",
      "metadata": {
        "id": "0c41de7a"
      },
      "source": [
        "Please print the shape of `x_train` and `y_train` and see how many training examples you have in your dataset."
      ]
    },
    {
      "cell_type": "code",
      "execution_count": null,
      "id": "0405fe59",
      "metadata": {
        "id": "0405fe59",
        "outputId": "76c6e5c5-7555-4014-c592-8f66e557c706",
        "colab": {
          "base_uri": "https://localhost:8080/"
        }
      },
      "outputs": [
        {
          "output_type": "stream",
          "name": "stdout",
          "text": [
            "The shape of x_train is: (2290,)\n",
            "The shape of y_train is:  (2290,)\n",
            "Number of training examples (m): 2290\n"
          ]
        }
      ],
      "source": [
        "print ('The shape of x_train is:', x_train.shape)\n",
        "print ('The shape of y_train is: ', y_train.shape)\n",
        "print ('Number of training examples (m):', len(x_train))"
      ]
    },
    {
      "cell_type": "markdown",
      "id": "7a821197",
      "metadata": {
        "id": "7a821197"
      },
      "source": [
        "#### Visualize your data\n",
        "\n",
        "It is often useful to understand the data by visualizing it. \n",
        "- For this dataset, you can use a scatter plot to visualize the data, since it has only two properties to plot (Gold Prices and Silver Prices)."
      ]
    },
    {
      "cell_type": "code",
      "execution_count": null,
      "id": "688fe251",
      "metadata": {
        "id": "688fe251",
        "outputId": "9e582dc8-a1d7-45e4-8685-4ee661a75057",
        "colab": {
          "base_uri": "https://localhost:8080/",
          "height": 295
        }
      },
      "outputs": [
        {
          "output_type": "display_data",
          "data": {
            "text/plain": [
              "<Figure size 432x288 with 1 Axes>"
            ],
            "image/png": "[encoded data removed]"
          },
          "metadata": {
            "needs_background": "light"
          }
        }
      ],
      "source": [
        "# Create a scatter plot of the data. To change the markers to red \"x\",\n",
        "# we used the 'marker' and 'c' parameters\n",
        "plt.scatter(x_train, y_train, marker='x', c='r') \n",
        "\n",
        "# Set the title\n",
        "plt.title(\"Gold Prices vs. Silver Prices\")\n",
        "# Set the y-axis label\n",
        "plt.ylabel('Gold price in $')\n",
        "# Set the x-axis label\n",
        "plt.xlabel('Silver price in $')\n",
        "plt.show()"
      ]
    },
    {
      "cell_type": "markdown",
      "id": "b4646534",
      "metadata": {
        "id": "b4646534"
      },
      "source": [
        "<a name=\"5\"></a>\n",
        "## 4 - Compute Cost\n",
        "\n",
        "Gradient descent involves repeated steps to adjust the value of your parameter $(w,b)$ to gradually get a smaller and smaller cost $J(w,b)$.\n",
        "- At each step of gradient descent, it will be helpful for you to monitor your progress by computing the cost $J(w,b)$ as $(w,b)$ gets updated. \n",
        "- In this section, you will implement a function to calculate $J(w,b)$ so that you can check the progress of your gradient descent implementation.\n",
        "\n",
        "#### Cost function\n",
        "As you may recall from the lecture, for one variable, the cost function for linear regression $J(w,b)$ is defined as\n",
        "\n",
        "$$J(w,b) = \\frac{1}{2m} \\sum\\limits_{i = 0}^{m-1} (f_{w,b}(x^{(i)}) - y^{(i)})^2$$ \n",
        "\n",
        "- You can think of $f_{w,b}(x^{(i)})$ as the model's prediction of your restaurant's profit, as opposed to $y^{(i)}$, which is the actual profit that is recorded in the data.\n",
        "- $m$ is the number of training examples in the dataset\n",
        "\n",
        "#### Model prediction\n",
        "\n",
        "- For linear regression with one variable, the prediction of the model $f_{w,b}$ for an example $x^{(i)}$ is representented as:\n",
        "\n",
        "$$ f_{w,b}(x^{(i)}) = wx^{(i)} + b$$\n",
        "\n",
        "This is the equation for a line, with an intercept $b$ and a slope $w$\n",
        "\n",
        "#### Implementation\n",
        "\n",
        "Please complete the `compute_cost()` function below to compute the cost $J(w,b)$."
      ]
    },
    {
      "cell_type": "code",
      "execution_count": null,
      "id": "0e4b510a",
      "metadata": {
        "id": "0e4b510a"
      },
      "outputs": [],
      "source": [
        "def compute_cost(x, y, w, b): \n",
        "    \"\"\"\n",
        "    Computes the cost function for linear regression.\n",
        "    \n",
        "    Args:\n",
        "        x (ndarray): Shape (m,) Input to the model (Silver prices)\n",
        "        y (ndarray): Shape (m,) Label (Gold prices)\n",
        "        w, b (scalar): Parameters of the model\n",
        "    \n",
        "    Returns\n",
        "        total_cost (float): The cost of using w,b as the parameters for linear regression\n",
        "               to fit the data points in x and y\n",
        "    \"\"\"\n",
        "    # number of training examples\n",
        "    m = x.shape[0] \n",
        "    \n",
        "    # You need to return this variable correctly\n",
        "    total_cost = 0\n",
        "    cost = 0\n",
        "    ### START CODE HERE ###  \n",
        "    for i in range(m):\n",
        "        f_wb = w * x[i] + b\n",
        "        cost  = cost + (f_wb - y[i])**2\n",
        "        total_cost = 1/(2*m) * cost\n",
        "    ### END CODE HERE ### \n",
        "\n",
        "    return total_cost"
      ]
    },
    {
      "cell_type": "code",
      "execution_count": null,
      "id": "22da5560",
      "metadata": {
        "id": "22da5560",
        "outputId": "36d1dc65-1f1b-4724-bcd8-9ba9c2bb8865",
        "colab": {
          "base_uri": "https://localhost:8080/"
        }
      },
      "outputs": [
        {
          "output_type": "stream",
          "name": "stdout",
          "text": [
            "<class 'numpy.float64'>\n",
            "Cost at initial w: 3411.652\n"
          ]
        }
      ],
      "source": [
        "# Compute cost with some initial values for paramaters w, b\n",
        "initial_w = 2\n",
        "initial_b = 1\n",
        "\n",
        "cost = compute_cost(x_train, y_train, initial_w, initial_b)\n",
        "print(type(cost))\n",
        "print(f'Cost at initial w: {cost:.3f}')\n",
        "\n",
        "# Public tests\n",
        "# from public_tests import *\n",
        "# compute_cost_test(compute_cost)"
      ]
    },
    {
      "cell_type": "markdown",
      "id": "41e2cf65",
      "metadata": {
        "id": "41e2cf65"
      },
      "source": [
        "<a name=\"6\"></a>\n",
        "## 5 - Gradient descent \n",
        "\n",
        "In this section, you will implement the gradient for parameters $w, b$ for linear regression. "
      ]
    },
    {
      "cell_type": "markdown",
      "id": "b17d731c",
      "metadata": {
        "id": "b17d731c"
      },
      "source": [
        "The gradient descent algorithm is:\n",
        "\n",
        "$$\\begin{align*}& \\text{repeat until convergence:} \\; \\lbrace \\newline \\; & \\phantom {0000} b := b -  \\alpha \\frac{\\partial J(w,b)}{\\partial b} \\newline       \\; & \\phantom {0000} w := w -  \\alpha \\frac{\\partial J(w,b)}{\\partial w} \\tag{1}  \\; & \n",
        "\\newline & \\rbrace\\end{align*}$$\n",
        "\n",
        "where, parameters $w, b$ are both updated simultaniously and where  \n",
        "$$\n",
        "\\frac{\\partial J(w,b)}{\\partial b}  = \\frac{1}{m} \\sum\\limits_{i = 0}^{m-1} (f_{w,b}(x^{(i)}) - y^{(i)}) \\tag{2}\n",
        "$$\n",
        "$$\n",
        "\\frac{\\partial J(w,b)}{\\partial w}  = \\frac{1}{m} \\sum\\limits_{i = 0}^{m-1} (f_{w,b}(x^{(i)}) -y^{(i)})x^{(i)} \\tag{3}\n",
        "$$\n",
        "* m is the number of training examples in the dataset\n",
        "\n",
        "    \n",
        "*  $f_{w,b}(x^{(i)})$ is the model's prediction, while $y^{(i)}$, is the target value\n",
        "\n",
        "\n",
        "You will implement a function called `compute_gradient` which calculates $\\frac{\\partial J(w)}{\\partial w}$, $\\frac{\\partial J(w)}{\\partial b}$ "
      ]
    },
    {
      "cell_type": "code",
      "execution_count": null,
      "id": "0e11b3f6",
      "metadata": {
        "id": "0e11b3f6"
      },
      "outputs": [],
      "source": [
        "def compute_gradient(x, y, w, b): \n",
        "    \"\"\"\n",
        "    Computes the gradient for linear regression \n",
        "    Args:\n",
        "      x (ndarray): Shape (m,) Input to the model (Silver price) \n",
        "      y (ndarray): Shape (m,) Label (Gold price)\n",
        "      w, b (scalar): Parameters of the model  \n",
        "    Returns\n",
        "      dj_dw (scalar): The gradient of the cost w.r.t. the parameters w\n",
        "      dj_db (scalar): The gradient of the cost w.r.t. the parameter b     \n",
        "     \"\"\"\n",
        "    \n",
        "    # Number of training examples\n",
        "    m = x.shape[0]\n",
        "    \n",
        "    # You need to return the following variables correctly\n",
        "    dj_dw = 0\n",
        "    dj_db = 0\n",
        "    \n",
        "    ### START CODE HERE ### \n",
        "    for i in range(m):\n",
        "        f_wb = w * x[i] + b \n",
        "        dj_dw_i = (f_wb - y[i]) * x[i]\n",
        "        dj_db_i = (f_wb - y[i])\n",
        "        dj_dw += dj_dw_i\n",
        "        dj_db += dj_db_i\n",
        "    dj_dw = dj_dw/m\n",
        "    dj_db = dj_db/m\n",
        "    ### END CODE HERE ### \n",
        "        \n",
        "    return dj_dw, dj_db"
      ]
    },
    {
      "cell_type": "code",
      "execution_count": null,
      "id": "73c3424d",
      "metadata": {
        "id": "73c3424d",
        "outputId": "24eddbf1-1550-452b-b4c8-9891f7af117c",
        "colab": {
          "base_uri": "https://localhost:8080/"
        }
      },
      "outputs": [
        {
          "output_type": "stream",
          "name": "stdout",
          "text": [
            "Gradient at initial w, b (zeros): -2608.141322027062 -122.73287507292564\n"
          ]
        }
      ],
      "source": [
        "# Compute and display gradient with w initialized to zeroes\n",
        "initial_w = 0\n",
        "initial_b = 0\n",
        "\n",
        "tmp_dj_dw, tmp_dj_db = compute_gradient(x_train, y_train, initial_w, initial_b)\n",
        "print('Gradient at initial w, b (zeros):', tmp_dj_dw, tmp_dj_db)\n"
      ]
    },
    {
      "cell_type": "code",
      "execution_count": null,
      "id": "84f3b2cc",
      "metadata": {
        "id": "84f3b2cc",
        "outputId": "93e196cc-e69f-4935-e574-72e182ae5a36",
        "colab": {
          "base_uri": "https://localhost:8080/"
        }
      },
      "outputs": [
        {
          "output_type": "stream",
          "name": "stdout",
          "text": [
            "Gradient at test w, b: -2513.386398996699 -118.51587575589488\n"
          ]
        }
      ],
      "source": [
        "# Compute and display cost and gradient with non-zero w\n",
        "test_w = 0.2\n",
        "test_b = 0.2\n",
        "tmp_dj_dw, tmp_dj_db = compute_gradient(x_train, y_train, test_w, test_b)\n",
        "\n",
        "print('Gradient at test w, b:', tmp_dj_dw, tmp_dj_db)"
      ]
    },
    {
      "cell_type": "markdown",
      "id": "c28e1622",
      "metadata": {
        "id": "c28e1622"
      },
      "source": [
        "<a name=\"2.6\"></a>\n",
        "###  Learning parameters using batch gradient descent \n",
        "\n",
        "You will now find the optimal parameters of a linear regression model by using batch gradient descent. Recall batch refers to running all the examples in one iteration.\n",
        "- You don't need to implement anything for this part. Simply run the cells below. \n",
        "\n",
        "- A good way to verify that gradient descent is working correctly is to look\n",
        "at the value of $J(w,b)$ and check that it is decreasing with each step. \n",
        "\n",
        "- Assuming you have implemented the gradient and computed the cost correctly and you have an appropriate value for the learning rate alpha, $J(w,b)$ should never increase and should converge to a steady value by the end of the algorithm."
      ]
    },
    {
      "cell_type": "code",
      "execution_count": null,
      "id": "d8aa5e73",
      "metadata": {
        "id": "d8aa5e73"
      },
      "outputs": [],
      "source": [
        "def gradient_descent(x, y, w_in, b_in, cost_function, gradient_function, alpha, num_iters): \n",
        "    \"\"\"\n",
        "    Performs batch gradient descent to learn theta. Updates theta by taking \n",
        "    num_iters gradient steps with learning rate alpha\n",
        "    \n",
        "    Args:\n",
        "      x :    (ndarray): Shape (m,)\n",
        "      y :    (ndarray): Shape (m,)\n",
        "      w_in, b_in : (scalar) Initial values of parameters of the model\n",
        "      cost_function: function to compute cost\n",
        "      gradient_function: function to compute the gradient\n",
        "      alpha : (float) Learning rate\n",
        "      num_iters : (int) number of iterations to run gradient descent\n",
        "    Returns\n",
        "      w : (ndarray): Shape (1,) Updated values of parameters of the model after\n",
        "          running gradient descent\n",
        "      b : (scalar)                Updated value of parameter of the model after\n",
        "          running gradient descent\n",
        "    \"\"\"\n",
        "    \n",
        "    # number of training examples\n",
        "    m = len(x)\n",
        "    \n",
        "    # An array to store cost J and w's at each iteration — primarily for graphing later\n",
        "    J_history = []\n",
        "    w_history = []\n",
        "    w = copy.deepcopy(w_in)  #avoid modifying global w within function\n",
        "    b = b_in\n",
        "    \n",
        "    for i in range(num_iters):\n",
        "\n",
        "        # Calculate the gradient and update the parameters\n",
        "        dj_dw, dj_db = gradient_function(x, y, w, b )  \n",
        "\n",
        "        # Update Parameters using w, b, alpha and gradient\n",
        "        w = w - alpha * dj_dw               \n",
        "        b = b - alpha * dj_db               \n",
        "\n",
        "        # Save cost J at each iteration\n",
        "        if i<100000:      # prevent resource exhaustion \n",
        "            cost =  cost_function(x, y, w, b)\n",
        "            J_history.append(cost)\n",
        "\n",
        "        # Print cost every at intervals 10 times or as many iterations if < 10\n",
        "        if i% math.ceil(num_iters/10) == 0:\n",
        "            w_history.append(w)\n",
        "            print(f\"Iteration {i:4}: Cost {float(J_history[-1]):8.2f}   \")\n",
        "        \n",
        "    return w, b, J_history, w_history #return w and J,w history for graphing"
      ]
    },
    {
      "cell_type": "code",
      "execution_count": null,
      "id": "71b457cf",
      "metadata": {
        "id": "71b457cf",
        "outputId": "eaf64b5c-e67d-4199-c649-4bb4bbd58fb9",
        "colab": {
          "base_uri": "https://localhost:8080/"
        }
      },
      "outputs": [
        {
          "output_type": "stream",
          "name": "stdout",
          "text": [
            "Iteration    0: Cost  7136.37   \n",
            "Iteration   75: Cost   309.99   \n",
            "Iteration  150: Cost   303.24   \n",
            "Iteration  225: Cost   302.84   \n",
            "Iteration  300: Cost   302.45   \n",
            "Iteration  375: Cost   302.06   \n",
            "Iteration  450: Cost   301.67   \n",
            "Iteration  525: Cost   301.28   \n",
            "Iteration  600: Cost   300.89   \n",
            "Iteration  675: Cost   300.51   \n",
            "w,b found by gradient descent: 5.714288348070709 0.7938964177512446\n"
          ]
        }
      ],
      "source": [
        "# initialize fitting parameters. Recall that the shape of w is (n,)\n",
        "initial_w = 0.\n",
        "initial_b = 0.\n",
        "\n",
        "# some gradient descent settings\n",
        "iterations = 750\n",
        "alpha = 0.0001\n",
        "\n",
        "w,b,_,_ = gradient_descent(x_train ,y_train, initial_w, initial_b, \n",
        "                     compute_cost, compute_gradient, alpha, iterations)\n",
        "print(\"w,b found by gradient descent:\", w, b)"
      ]
    },
    {
      "cell_type": "code",
      "execution_count": null,
      "id": "00625edb",
      "metadata": {
        "id": "00625edb"
      },
      "outputs": [],
      "source": [
        "m = x_train.shape[0]\n",
        "predicted = np.zeros(m)\n",
        "\n",
        "for i in range(m):\n",
        "    predicted[i] = w * x_train[i] + b"
      ]
    },
    {
      "cell_type": "code",
      "execution_count": null,
      "id": "fbfd2858",
      "metadata": {
        "id": "fbfd2858",
        "outputId": "1e6b8552-85b1-462e-e0c3-bc2f61f26d91",
        "colab": {
          "base_uri": "https://localhost:8080/",
          "height": 312
        }
      },
      "outputs": [
        {
          "output_type": "execute_result",
          "data": {
            "text/plain": [
              "Text(0.5, 0, 'Silver Prices')"
            ]
          },
          "metadata": {},
          "execution_count": 20
        },
        {
          "output_type": "display_data",
          "data": {
            "text/plain": [
              "<Figure size 432x288 with 1 Axes>"
            ],
            "image/png": "[encoded data removed]"
          },
          "metadata": {
            "needs_background": "light"
          }
        }
      ],
      "source": [
        "# Plot the linear fit\n",
        "plt.plot(x_train, predicted, c = \"b\")\n",
        "\n",
        "# Create a scatter plot of the data. \n",
        "plt.scatter(x_train, y_train, marker='x', c='r') \n",
        "\n",
        "# Set the title\n",
        "plt.title(\"Gold Prices vs. Silver Prices\")\n",
        "# Set the y-axis label\n",
        "plt.ylabel('Gold Prices')\n",
        "# Set the x-axis label\n",
        "plt.xlabel('Silver Prices')"
      ]
    },
    {
      "cell_type": "markdown",
      "id": "4dda9efe",
      "metadata": {
        "id": "4dda9efe"
      },
      "source": [
        "Your final values of $w,b$ can also be used to make predictions on Gold Prices. Let's predict what the Gold Prices would be for Silver Prices of `15$` and `27$`. \n",
        "\n",
        "- The model takes in Silver Prices as input. "
      ]
    },
    {
      "cell_type": "code",
      "execution_count": null,
      "id": "92e8b292",
      "metadata": {
        "id": "92e8b292",
        "outputId": "423e5571-b3f4-41b1-b0ab-197c488189d0",
        "colab": {
          "base_uri": "https://localhost:8080/"
        }
      },
      "outputs": [
        {
          "output_type": "stream",
          "name": "stdout",
          "text": [
            "For Silver Price = 15$ , we predict a Gold Price of $86.51\n",
            "For population = 27$ , we predict a Gold Price of $155.08\n"
          ]
        }
      ],
      "source": [
        "predict1 = 15 * w + b\n",
        "print('For Silver Price = 15$ , we predict a Gold Price of $%.2f' % (predict1))\n",
        "\n",
        "predict2 = 27 * w + b\n",
        "print('For population = 27$ , we predict a Gold Price of $%.2f' % (predict2))"
      ]
    }
  ],
  "metadata": {
    "kernelspec": {
      "display_name": "Python 3 (ipykernel)",
      "language": "python",
      "name": "python3"
    },
    "language_info": {
      "codemirror_mode": {
        "name": "ipython",
        "version": 3
      },
      "file_extension": ".py",
      "mimetype": "text/x-python",
      "name": "python",
      "nbconvert_exporter": "python",
      "pygments_lexer": "ipython3",
      "version": "3.9.7"
    },
    "colab": {
      "provenance": []
    }
  },
  "nbformat": 4,
  "nbformat_minor": 5
}